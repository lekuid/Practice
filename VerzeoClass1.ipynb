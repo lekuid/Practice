{
  "nbformat": 4,
  "nbformat_minor": 0,
  "metadata": {
    "colab": {
      "name": "VerzeoClass1.ipynb",
      "provenance": [],
      "authorship_tag": "ABX9TyPl+7dLNN5nvmNPL+fODCa/",
      "include_colab_link": true
    },
    "kernelspec": {
      "name": "python3",
      "display_name": "Python 3"
    }
  },
  "cells": [
    {
      "cell_type": "markdown",
      "metadata": {
        "id": "view-in-github",
        "colab_type": "text"
      },
      "source": [
        "<a href=\"https://colab.research.google.com/github/lekuid/Practice/blob/main/VerzeoClass1.ipynb\" target=\"_parent\"><img src=\"https://colab.research.google.com/assets/colab-badge.svg\" alt=\"Open In Colab\"/></a>"
      ]
    },
    {
      "cell_type": "markdown",
      "metadata": {
        "id": "yTKx6HKyiqZ8"
      },
      "source": [
        "Skipping Basics of Dict in Python"
      ]
    },
    {
      "cell_type": "code",
      "metadata": {
        "id": "80U-1PGtc02c"
      },
      "source": [
        "import random"
      ],
      "execution_count": 7,
      "outputs": []
    },
    {
      "cell_type": "code",
      "metadata": {
        "id": "BTJQFlMxiQeN"
      },
      "source": [
        "#List of strings\r\n",
        "people = ['1', 'ron', 'xa01', 'hmm']"
      ],
      "execution_count": 9,
      "outputs": []
    },
    {
      "cell_type": "code",
      "metadata": {
        "colab": {
          "base_uri": "https://localhost:8080/",
          "height": 35
        },
        "id": "pA67Vtx8jF1B",
        "outputId": "28be79cc-d7a7-4e1e-cd80-f2a07eed2ac7"
      },
      "source": [
        "random.choice(people)"
      ],
      "execution_count": 13,
      "outputs": [
        {
          "output_type": "execute_result",
          "data": {
            "application/vnd.google.colaboratory.intrinsic+json": {
              "type": "string"
            },
            "text/plain": [
              "'ron'"
            ]
          },
          "metadata": {
            "tags": []
          },
          "execution_count": 13
        }
      ]
    },
    {
      "cell_type": "code",
      "metadata": {
        "colab": {
          "base_uri": "https://localhost:8080/"
        },
        "id": "V-2L8jDCjj2p",
        "outputId": "601ef616-7f53-463a-dc4c-fdd0ff2bd507"
      },
      "source": [
        "#mid class boredom\r\n",
        "a, b = random.randint(1, 6), random.randint(1, 6)\r\n",
        "print(f\"one rolled {a}, two rolled {b}\")\r\n",
        "if a > b: print(\"Player one wins\")\r\n",
        "elif b > a: print(\"Player two wins\")\r\n",
        "else: print(\"Draw :(\")"
      ],
      "execution_count": 29,
      "outputs": [
        {
          "output_type": "stream",
          "text": [
            "one rolled 4, two rolled 6\n",
            "Player two wins\n"
          ],
          "name": "stdout"
        }
      ]
    },
    {
      "cell_type": "code",
      "metadata": {
        "colab": {
          "base_uri": "https://localhost:8080/",
          "height": 195
        },
        "id": "3n7Rfq-FjoEz",
        "outputId": "c681366f-2383-47e1-c1e4-c28490501b8d"
      },
      "source": [
        "#AYY pandas whoooop\r\n",
        "import pandas as pd\r\n",
        "#someone said pd sounds like a nickname, adorable.\r\n",
        "pd.series(people)"
      ],
      "execution_count": 30,
      "outputs": [
        {
          "output_type": "error",
          "ename": "AttributeError",
          "evalue": "ignored",
          "traceback": [
            "\u001b[0;31m---------------------------------------------------------------------------\u001b[0m",
            "\u001b[0;31mAttributeError\u001b[0m                            Traceback (most recent call last)",
            "\u001b[0;32m<ipython-input-30-db7e7d097013>\u001b[0m in \u001b[0;36m<module>\u001b[0;34m()\u001b[0m\n\u001b[1;32m      2\u001b[0m \u001b[0;32mimport\u001b[0m \u001b[0mpandas\u001b[0m \u001b[0;32mas\u001b[0m \u001b[0mpd\u001b[0m\u001b[0;34m\u001b[0m\u001b[0;34m\u001b[0m\u001b[0m\n\u001b[1;32m      3\u001b[0m \u001b[0;31m#someone said pd sounds like a nickname, adorable.\u001b[0m\u001b[0;34m\u001b[0m\u001b[0;34m\u001b[0m\u001b[0;34m\u001b[0m\u001b[0m\n\u001b[0;32m----> 4\u001b[0;31m \u001b[0mpd\u001b[0m\u001b[0;34m.\u001b[0m\u001b[0mseries\u001b[0m\u001b[0;34m(\u001b[0m\u001b[0mpeople\u001b[0m\u001b[0;34m)\u001b[0m\u001b[0;34m\u001b[0m\u001b[0;34m\u001b[0m\u001b[0m\n\u001b[0m",
            "\u001b[0;31mAttributeError\u001b[0m: module 'pandas' has no attribute 'series'"
          ]
        }
      ]
    }
  ]
}